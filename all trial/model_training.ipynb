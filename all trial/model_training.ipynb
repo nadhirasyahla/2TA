{
 "cells": [
  {
   "cell_type": "code",
   "execution_count": 1,
   "metadata": {},
   "outputs": [],
   "source": [
    "#import library\n",
    "import pickle\n",
    "import torch\n",
    "import torch.nn as nn\n",
    "import torch.optim as optim\n",
    "from sklearn.metrics import accuracy_score\n",
    "from torchvision import models"
   ]
  },
  {
   "cell_type": "code",
   "execution_count": 2,
   "metadata": {},
   "outputs": [],
   "source": [
    "#Load the DataLoader objects\n",
    "with open(r\"C:\\Users\\user\\Documents\\!TA\\!TA\\all trial\\train_loader.pkl\", \"rb\") as f:\n",
    "    train_loader = pickle.load(f)\n",
    "with open(r\"C:\\Users\\user\\Documents\\!TA\\!TA\\all trial\\valid_loader.pkl\", \"rb\") as f:\n",
    "    valid_loader = pickle.load(f)"
   ]
  },
  {
   "cell_type": "code",
   "execution_count": 3,
   "metadata": {},
   "outputs": [
    {
     "name": "stdout",
     "output_type": "stream",
     "text": [
      "Train Loader: 37 batches\n",
      "Valid Loader: 10 batches\n"
     ]
    }
   ],
   "source": [
    "#Confirm the DataLoaders are loaded\n",
    "print(f\"Train Loader: {len(train_loader)} batches\")\n",
    "print(f\"Valid Loader: {len(valid_loader)} batches\")"
   ]
  },
  {
   "cell_type": "code",
   "execution_count": 4,
   "metadata": {},
   "outputs": [
    {
     "name": "stdout",
     "output_type": "stream",
     "text": [
      "Using device: cpu\n"
     ]
    }
   ],
   "source": [
    "#Check device availability\n",
    "device = torch.device(\"cuda\" if torch.cuda.is_available() else \"cpu\")\n",
    "print(f\"Using device: {device}\")"
   ]
  },
  {
   "cell_type": "code",
   "execution_count": 5,
   "metadata": {},
   "outputs": [
    {
     "name": "stderr",
     "output_type": "stream",
     "text": [
      "C:\\Users\\user\\AppData\\Local\\Temp\\ipykernel_17508\\3150811408.py:26: FutureWarning: You are using `torch.load` with `weights_only=False` (the current default value), which uses the default pickle module implicitly. It is possible to construct malicious pickle data which will execute arbitrary code during unpickling (See https://github.com/pytorch/pytorch/blob/main/SECURITY.md#untrusted-models for more details). In a future release, the default value for `weights_only` will be flipped to `True`. This limits the functions that could be executed during unpickling. Arbitrary objects will no longer be allowed to be loaded via this mode unless they are explicitly allowlisted by the user via `torch.serialization.add_safe_globals`. We recommend you start setting `weights_only=True` for any use case where you don't have full control of the loaded file. Please open an issue on GitHub for any issues related to this experimental feature.\n",
      "  vgg11.load_state_dict(torch.load(\"vgg11_with_dropout_state_dict.pth\", map_location=device))\n"
     ]
    },
    {
     "name": "stdout",
     "output_type": "stream",
     "text": [
      "Pretrained weights loaded successfully.\n"
     ]
    }
   ],
   "source": [
    "# #load the pre-trained VGG16 model architecture\n",
    "# vgg16 = models.vgg16(weights=None).to(device)\n",
    "\n",
    "# #Modify the classifier layer for 3 output classes\n",
    "# vgg16.classifier[6] = nn.Linear(in_features=4096, out_features=3).to(device)\n",
    "\n",
    "# #Load the saved state dictionary\n",
    "# vgg16.load_state_dict(torch.load(\"vgg16_state_dict.pth\", map_location=device))\n",
    "\n",
    "#load the pre-trained VGG16 model architecture\n",
    "vgg11 = models.vgg11(weights=None).to(device)\n",
    "\n",
    "#Modify the classifier layer for 3 output classes\n",
    "vgg11.classifier = nn.Sequential(\n",
    "    nn.Linear(in_features=512 * 7 * 7, out_features=4096),\n",
    "    nn.ReLU(),\n",
    "    nn.Dropout(p=0.4),\n",
    "    nn.Linear(in_features=4096, out_features=4096),\n",
    "    nn.ReLU(),\n",
    "    nn.Dropout(p=0.4),\n",
    "    nn.Linear(in_features=4096, out_features=3)\n",
    ").to(device)\n",
    "\n",
    " #Load the saved state dictionary if available\n",
    "try:\n",
    "    vgg11.load_state_dict(torch.load(\"vgg11_with_dropout_state_dict.pth\", map_location=device))\n",
    "    print(\"Pretrained weights loaded successfully.\")\n",
    "except FileNotFoundError:\n",
    "    print(\"No pretrained weights found. Training from scratch.\")"
   ]
  },
  {
   "cell_type": "code",
   "execution_count": 6,
   "metadata": {},
   "outputs": [],
   "source": [
    "#Define the loss function and optimizer\n",
    "criterion = nn.CrossEntropyLoss()  # For multi-class classification\n",
    "# optimizer = optim.Adam(vgg16.classifier.parameters(), lr=0.001)\n",
    "# optimizer = optim.Adam(vgg11.classifier.parameters(), lr=0.001)\n",
    "optimizer = optim.Adam([\n",
    "   {'params': vgg11.features[11:].parameters(), 'lr': 1e-6},  # last conv block\n",
    "   {'params': vgg11.classifier.parameters(),    'lr': 1e-3}\n",
    "], weight_decay=1e-5)"
   ]
  },
  {
   "cell_type": "code",
   "execution_count": 7,
   "metadata": {},
   "outputs": [
    {
     "name": "stderr",
     "output_type": "stream",
     "text": [
      "c:\\Users\\user\\AppData\\Local\\Programs\\Python\\Python39\\lib\\site-packages\\torch\\optim\\lr_scheduler.py:62: UserWarning: The verbose parameter is deprecated. Please use get_last_lr() to access the learning rate.\n",
      "  warnings.warn(\n"
     ]
    }
   ],
   "source": [
    "#Learning rate scheduler\n",
    "#scheduler = torch.optim.lr_scheduler.StepLR(optimizer, step_size=5, gamma=0.5)  # Reduce lr by 0.5 every 5 epochs\n",
    "\n",
    "# Adaptive learning rate scheduler\n",
    "scheduler = torch.optim.lr_scheduler.ReduceLROnPlateau(optimizer, mode='max', patience=3, factor=0.5, verbose=True)\n"
   ]
  },
  {
   "cell_type": "code",
   "execution_count": 8,
   "metadata": {},
   "outputs": [],
   "source": [
    "# Training function with early stopping\n",
    "def train_model(model, train_loader, valid_loader, criterion, optimizer, scheduler, num_epochs=10, patience=5):\n",
    "    best_accuracy = 0.0\n",
    "    epochs_without_improvement = 0\n",
    "\n",
    "    for epoch in range(num_epochs):\n",
    "        model.train()\n",
    "        train_loss = 0.0\n",
    "        train_correct = 0\n",
    "        total_train = 0\n",
    "\n",
    "        # Training loop\n",
    "        for images, labels in train_loader:\n",
    "            images, labels = images.to(device), labels.to(device)\n",
    "            optimizer.zero_grad()\n",
    "\n",
    "            # Forward pass\n",
    "            outputs = model(images)\n",
    "            loss = criterion(outputs, labels)\n",
    "\n",
    "            # Backward pass and optimization\n",
    "            loss.backward()\n",
    "            optimizer.step()\n",
    "\n",
    "            train_loss += loss.item()\n",
    "            _, preds = torch.max(outputs, 1)\n",
    "            train_correct += (preds == labels).sum().item()\n",
    "            total_train += labels.size(0)\n",
    "\n",
    "        train_accuracy = 100 * train_correct / total_train\n",
    "\n",
    "        # Validation loop\n",
    "        model.eval()\n",
    "        valid_correct = 0\n",
    "        total_valid = 0\n",
    "\n",
    "        with torch.no_grad():\n",
    "            for images, labels in valid_loader:\n",
    "                images, labels = images.to(device), labels.to(device)\n",
    "                outputs = model(images)\n",
    "                _, preds = torch.max(outputs, 1)\n",
    "                valid_correct += (preds == labels).sum().item()\n",
    "                total_valid += labels.size(0)\n",
    "\n",
    "        valid_accuracy = 100 * valid_correct / total_valid\n",
    "\n",
    "        # Print stats for the epoch\n",
    "        print(f\"Epoch [{epoch+1}/{num_epochs}], \"\n",
    "              f\"Train Loss: {train_loss / len(train_loader):.4f}, \"\n",
    "              f\"Train Accuracy: {train_accuracy:.2f}%, \"\n",
    "              f\"Validation Accuracy: {valid_accuracy:.2f}%\")\n",
    "\n",
    "        # Early stopping logic\n",
    "        if valid_accuracy > best_accuracy:\n",
    "            best_accuracy = valid_accuracy\n",
    "            torch.save(model.state_dict(), \"best_vgg11_with_dropout_model.pth\")\n",
    "            epochs_without_improvement = 0\n",
    "        else:\n",
    "            epochs_without_improvement += 1\n",
    "\n",
    "        if epochs_without_improvement >= patience:\n",
    "            print(f\"Early stopping triggered at epoch {epoch + 1}!\")\n",
    "            break\n",
    "\n",
    "        # Update learning rate scheduler\n",
    "        scheduler.step(valid_accuracy)\n",
    "\n",
    "    print(f\"Best Validation Accuracy: {best_accuracy:.2f}%\")"
   ]
  },
  {
   "cell_type": "code",
   "execution_count": null,
   "metadata": {},
   "outputs": [],
   "source": [
    "#Train the model\n",
    "#train_model(vgg16, train_loader, valid_loader, criterion, optimizer, scheduler, num_epochs=10)\n",
    "train_model(vgg11, train_loader, valid_loader, criterion, optimizer, scheduler, num_epochs=10, patience=5)"
   ]
  }
 ],
 "metadata": {
  "kernelspec": {
   "display_name": "Python 3",
   "language": "python",
   "name": "python3"
  },
  "language_info": {
   "codemirror_mode": {
    "name": "ipython",
    "version": 3
   },
   "file_extension": ".py",
   "mimetype": "text/x-python",
   "name": "python",
   "nbconvert_exporter": "python",
   "pygments_lexer": "ipython3",
   "version": "3.9.0"
  }
 },
 "nbformat": 4,
 "nbformat_minor": 2
}
