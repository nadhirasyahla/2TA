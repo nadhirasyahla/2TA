{
 "cells": [
  {
   "cell_type": "code",
   "execution_count": 8,
   "metadata": {},
   "outputs": [],
   "source": [
    "#import libraries\n",
    "import torch\n",
    "import torch.nn as nn\n",
    "from torchvision import models\n",
    "from torchvision.models import VGG16_Weights, ResNet18_Weights, VGG11_Weights"
   ]
  },
  {
   "cell_type": "code",
   "execution_count": 9,
   "metadata": {},
   "outputs": [
    {
     "name": "stdout",
     "output_type": "stream",
     "text": [
      "Using device: cpu\n"
     ]
    }
   ],
   "source": [
    "#Check if GPU is available\n",
    "device = torch.device(\"cuda\" if torch.cuda.is_available() else \"cpu\")\n",
    "print(f\"Using device: {device}\")\n"
   ]
  },
  {
   "cell_type": "code",
   "execution_count": 10,
   "metadata": {},
   "outputs": [],
   "source": [
    "#Load the pre-trained VGG16 model\n",
    "#vgg16 = models.vgg16(weights=VGG16_Weights.IMAGENET1K_V1)\n",
    "vgg11 = models.vgg11(weights=VGG11_Weights.IMAGENET1K_V1)"
   ]
  },
  {
   "cell_type": "code",
   "execution_count": 11,
   "metadata": {},
   "outputs": [],
   "source": [
    "# # #Modify the classifier layer for 3 output classes\n",
    "# # #vgg16.classifier[6] = nn.Linear(in_features=4096, out_features=3)  # 3 classes: Keratoconus, Normal, Suspect\n",
    "# # vgg11.classifier[6] = nn.Linear(in_features=4096, out_features=3)  # 3 classes: Keratoconus, Normal, Suspect\n",
    "\n",
    "\n",
    "# # #Move the model to the appropriate device (GPU/CPU)\n",
    "# # #vgg16 = vgg16.to(device)\n",
    "# vgg11 = vgg11.to(device)"
   ]
  },
  {
   "cell_type": "code",
   "execution_count": 12,
   "metadata": {},
   "outputs": [],
   "source": [
    "# Modify the classifier layer for 3 output classes and add Dropout\n",
    "vgg11.classifier = nn.Sequential(\n",
    "    nn.Linear(in_features=512 * 7 * 7, out_features=4096),  # First fully connected layer\n",
    "    nn.ReLU(),\n",
    "    nn.Dropout(p=0.5),                                     # Dropout layer\n",
    "    nn.Linear(in_features=4096, out_features=4096),        # Second fully connected layer\n",
    "    nn.ReLU(),\n",
    "    nn.Dropout(p=0.5),                                     # Another Dropout layer\n",
    "    nn.Linear(in_features=4096, out_features=3)            # Output layer for 3 classes\n",
    ")\n",
    "\n",
    "vgg11 = vgg11.to(device)"
   ]
  },
  {
   "cell_type": "code",
   "execution_count": 13,
   "metadata": {},
   "outputs": [
    {
     "name": "stdout",
     "output_type": "stream",
     "text": [
      "VGG(\n",
      "  (features): Sequential(\n",
      "    (0): Conv2d(3, 64, kernel_size=(3, 3), stride=(1, 1), padding=(1, 1))\n",
      "    (1): ReLU(inplace=True)\n",
      "    (2): MaxPool2d(kernel_size=2, stride=2, padding=0, dilation=1, ceil_mode=False)\n",
      "    (3): Conv2d(64, 128, kernel_size=(3, 3), stride=(1, 1), padding=(1, 1))\n",
      "    (4): ReLU(inplace=True)\n",
      "    (5): MaxPool2d(kernel_size=2, stride=2, padding=0, dilation=1, ceil_mode=False)\n",
      "    (6): Conv2d(128, 256, kernel_size=(3, 3), stride=(1, 1), padding=(1, 1))\n",
      "    (7): ReLU(inplace=True)\n",
      "    (8): Conv2d(256, 256, kernel_size=(3, 3), stride=(1, 1), padding=(1, 1))\n",
      "    (9): ReLU(inplace=True)\n",
      "    (10): MaxPool2d(kernel_size=2, stride=2, padding=0, dilation=1, ceil_mode=False)\n",
      "    (11): Conv2d(256, 512, kernel_size=(3, 3), stride=(1, 1), padding=(1, 1))\n",
      "    (12): ReLU(inplace=True)\n",
      "    (13): Conv2d(512, 512, kernel_size=(3, 3), stride=(1, 1), padding=(1, 1))\n",
      "    (14): ReLU(inplace=True)\n",
      "    (15): MaxPool2d(kernel_size=2, stride=2, padding=0, dilation=1, ceil_mode=False)\n",
      "    (16): Conv2d(512, 512, kernel_size=(3, 3), stride=(1, 1), padding=(1, 1))\n",
      "    (17): ReLU(inplace=True)\n",
      "    (18): Conv2d(512, 512, kernel_size=(3, 3), stride=(1, 1), padding=(1, 1))\n",
      "    (19): ReLU(inplace=True)\n",
      "    (20): MaxPool2d(kernel_size=2, stride=2, padding=0, dilation=1, ceil_mode=False)\n",
      "  )\n",
      "  (avgpool): AdaptiveAvgPool2d(output_size=(7, 7))\n",
      "  (classifier): Sequential(\n",
      "    (0): Linear(in_features=25088, out_features=4096, bias=True)\n",
      "    (1): ReLU()\n",
      "    (2): Dropout(p=0.5, inplace=False)\n",
      "    (3): Linear(in_features=4096, out_features=4096, bias=True)\n",
      "    (4): ReLU()\n",
      "    (5): Dropout(p=0.5, inplace=False)\n",
      "    (6): Linear(in_features=4096, out_features=3, bias=True)\n",
      "  )\n",
      ")\n"
     ]
    }
   ],
   "source": [
    "# #Freeze the feature extractor layers\n",
    "# for param in vgg16.features.parameters():\n",
    "#     param.requires_grad = False\n",
    "\n",
    "# for name, param in vgg16.named_parameters():\n",
    "#     print(f\"{name}: requires_grad={param.requires_grad}\")\n",
    "\n",
    "\n",
    "# # Display the model structure\n",
    "# print(vgg16)\n",
    "\n",
    "#Freeze the feature extractor layers\n",
    "for param in vgg11.features.parameters():\n",
    "    param.requires_grad = False\n",
    "\n",
    "# for name, param in vgg11.named_parameters():\n",
    "#     print(f\"{name}: requires_grad={param.requires_grad}\")\n",
    "\n",
    "\n",
    "# Display the model structure\n",
    "print(vgg11)"
   ]
  },
  {
   "cell_type": "code",
   "execution_count": 14,
   "metadata": {},
   "outputs": [],
   "source": [
    "# Save the model setup for use in training\n",
    "# torch.save(vgg16, \"vgg16_setup.pth\")\n",
    "\n",
    "#torch.save(vgg16.state_dict(), \"vgg16_state_dict.pth\")\n",
    "\n",
    "torch.save(vgg11.state_dict(), \"vgg11_with_dropout_state_dict.pth\")"
   ]
  }
 ],
 "metadata": {
  "kernelspec": {
   "display_name": "Python 3",
   "language": "python",
   "name": "python3"
  },
  "language_info": {
   "codemirror_mode": {
    "name": "ipython",
    "version": 3
   },
   "file_extension": ".py",
   "mimetype": "text/x-python",
   "name": "python",
   "nbconvert_exporter": "python",
   "pygments_lexer": "ipython3",
   "version": "3.9.0"
  }
 },
 "nbformat": 4,
 "nbformat_minor": 2
}
