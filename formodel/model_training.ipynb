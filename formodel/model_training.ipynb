{
 "cells": [
  {
   "cell_type": "code",
   "execution_count": 14,
   "metadata": {},
   "outputs": [],
   "source": [
    "#import library\n",
    "import pickle\n",
    "import torch\n",
    "import torch.nn as nn\n",
    "import torch.optim as optim\n",
    "from sklearn.metrics import accuracy_score\n",
    "from torchvision import models"
   ]
  },
  {
   "cell_type": "code",
   "execution_count": 15,
   "metadata": {},
   "outputs": [],
   "source": [
    "#Load the DataLoader objects\n",
    "with open(r\"C:\\Users\\user\\Documents\\!TA\\!TA\\all trial\\train_loader.pkl\", \"rb\") as f:\n",
    "    train_loader = pickle.load(f)\n",
    "with open(r\"C:\\Users\\user\\Documents\\!TA\\!TA\\all trial\\valid_loader.pkl\", \"rb\") as f:\n",
    "    valid_loader = pickle.load(f)"
   ]
  },
  {
   "cell_type": "code",
   "execution_count": 16,
   "metadata": {},
   "outputs": [
    {
     "name": "stdout",
     "output_type": "stream",
     "text": [
      "Train Loader: 74 batches\n",
      "Valid Loader: 19 batches\n"
     ]
    }
   ],
   "source": [
    "#Confirm the DataLoaders are loaded\n",
    "print(f\"Train Loader: {len(train_loader)} batches\")\n",
    "print(f\"Valid Loader: {len(valid_loader)} batches\")"
   ]
  },
  {
   "cell_type": "code",
   "execution_count": 17,
   "metadata": {},
   "outputs": [
    {
     "name": "stdout",
     "output_type": "stream",
     "text": [
      "Using device: cpu\n"
     ]
    }
   ],
   "source": [
    "#Check device availability\n",
    "device = torch.device(\"cuda\" if torch.cuda.is_available() else \"cpu\")\n",
    "print(f\"Using device: {device}\")"
   ]
  },
  {
   "cell_type": "code",
   "execution_count": 18,
   "metadata": {},
   "outputs": [
    {
     "name": "stderr",
     "output_type": "stream",
     "text": [
      "C:\\Users\\user\\AppData\\Local\\Temp\\ipykernel_9352\\4110269821.py:8: FutureWarning: You are using `torch.load` with `weights_only=False` (the current default value), which uses the default pickle module implicitly. It is possible to construct malicious pickle data which will execute arbitrary code during unpickling (See https://github.com/pytorch/pytorch/blob/main/SECURITY.md#untrusted-models for more details). In a future release, the default value for `weights_only` will be flipped to `True`. This limits the functions that could be executed during unpickling. Arbitrary objects will no longer be allowed to be loaded via this mode unless they are explicitly allowlisted by the user via `torch.serialization.add_safe_globals`. We recommend you start setting `weights_only=True` for any use case where you don't have full control of the loaded file. Please open an issue on GitHub for any issues related to this experimental feature.\n",
      "  vgg16.load_state_dict(torch.load(\"vgg16_state_dict.pth\", map_location=device))\n"
     ]
    },
    {
     "data": {
      "text/plain": [
       "<All keys matched successfully>"
      ]
     },
     "execution_count": 18,
     "metadata": {},
     "output_type": "execute_result"
    }
   ],
   "source": [
    "#load the pre-trained VGG16 model architecture\n",
    "vgg16 = models.vgg16(weights=None).to(device)\n",
    "\n",
    "#Modify the classifier layer for 3 output classes\n",
    "vgg16.classifier[6] = nn.Linear(in_features=4096, out_features=3).to(device)\n",
    "\n",
    "#Load the saved state dictionary\n",
    "vgg16.load_state_dict(torch.load(\"vgg16_state_dict.pth\", map_location=device))"
   ]
  },
  {
   "cell_type": "code",
   "execution_count": 19,
   "metadata": {},
   "outputs": [],
   "source": [
    "#Ensure the classifier has the correct number of output classes (3 in this case)\n",
    "vgg16.classifier[6] = nn.Linear(in_features=4096, out_features=3).to(device)"
   ]
  },
  {
   "cell_type": "code",
   "execution_count": 20,
   "metadata": {},
   "outputs": [],
   "source": [
    "#Define the loss function and optimizer\n",
    "criterion = nn.CrossEntropyLoss()  # For multi-class classification\n",
    "optimizer = optim.Adam(vgg16.classifier.parameters(), lr=0.001)"
   ]
  },
  {
   "cell_type": "code",
   "execution_count": 21,
   "metadata": {},
   "outputs": [],
   "source": [
    "#Learning rate scheduler\n",
    "scheduler = torch.optim.lr_scheduler.StepLR(optimizer, step_size=5, gamma=0.5)  # Reduce lr by 0.5 every 5 epochs"
   ]
  },
  {
   "cell_type": "code",
   "execution_count": 22,
   "metadata": {},
   "outputs": [],
   "source": [
    "# # Early stopping criteria\n",
    "# best_accuracy = 0.0\n",
    "# patience = 3  # Stop after 3 epochs with no improvement\n",
    "# epochs_without_improvement = 0"
   ]
  },
  {
   "cell_type": "code",
   "execution_count": 23,
   "metadata": {},
   "outputs": [],
   "source": [
    "#Training function\n",
    "def train_model(model, train_loader, valid_loader, criterion, optimizer, scheduler, num_epochs=10):\n",
    "    # global best_accuracy, epochs_without_improvement\n",
    "    best_accuracy = 0.0 \n",
    "\n",
    "    for epoch in range(num_epochs):\n",
    "        model.train()  # Set model to training mode\n",
    "        train_loss = 0.0\n",
    "        train_correct = 0\n",
    "        total_train = 0\n",
    "\n",
    "        # Training loop\n",
    "        for images, labels in train_loader:\n",
    "            images, labels = images.to(device), labels.to(device)\n",
    "            optimizer.zero_grad()\n",
    "\n",
    "            # Forward pass\n",
    "            outputs = model(images)\n",
    "            loss = criterion(outputs, labels)\n",
    "\n",
    "            # Backward pass and optimization\n",
    "            loss.backward()\n",
    "            optimizer.step()\n",
    "\n",
    "            train_loss += loss.item()\n",
    "            _, preds = torch.max(outputs, 1)\n",
    "            train_correct += (preds == labels).sum().item()\n",
    "            total_train += labels.size(0)\n",
    "\n",
    "        # Calculate train accuracy\n",
    "        train_accuracy = 100 * train_correct / total_train\n",
    "\n",
    "        # Validation loop\n",
    "        model.eval()\n",
    "        valid_correct = 0\n",
    "        total_valid = 0\n",
    "\n",
    "        with torch.no_grad():\n",
    "            for images, labels in valid_loader:\n",
    "                images, labels = images.to(device), labels.to(device)\n",
    "                outputs = model(images)\n",
    "                _, preds = torch.max(outputs, 1)\n",
    "                valid_correct += (preds == labels).sum().item()\n",
    "                total_valid += labels.size(0)\n",
    "                \n",
    "        # Calculate validatin accuracy\n",
    "        valid_accuracy = 100 * valid_correct / total_valid\n",
    "\n",
    "        # Print stats for the epoch\n",
    "        print(f\"Epoch [{epoch+1}/{num_epochs}], \"\n",
    "              f\"Train Loss: {train_loss/len(train_loader):.4f}, \"\n",
    "              f\"Train Accuracy: {train_accuracy:.2f}%, \"\n",
    "              f\"Validation Accuracy: {valid_accuracy:.2f}%\")\n",
    "\n",
    "        # Save the model with the best validation accuracy\n",
    "        if valid_accuracy > best_accuracy:\n",
    "            best_accuracy = valid_accuracy\n",
    "            torch.save(model.state_dict(), \"best_vgg16_model.pth\")\n",
    "        #     epochs_without_improvement = 0\n",
    "        # else:\n",
    "        #     epochs_without_improvement += 1\n",
    "\n",
    "        # # Save checkpoints after every 5 epochs\n",
    "        # if (epoch + 1) % 5 == 0:\n",
    "        #     torch.save(model.state_dict(), f\"vgg16_epoch_{epoch+1}.pth\")\n",
    "\n",
    "        # # Stop training early if no improvement\n",
    "        # if epochs_without_improvement >= patience:\n",
    "        #     print(\"Early stopping triggered!\")\n",
    "        #     break\n",
    "        \n",
    "        # Step the scheduler\n",
    "        scheduler.step()\n",
    "\n",
    "    print(f\"Best Validation Accuracy: {best_accuracy:.2f}%\")"
   ]
  },
  {
   "cell_type": "code",
   "execution_count": 24,
   "metadata": {},
   "outputs": [
    {
     "name": "stdout",
     "output_type": "stream",
     "text": [
      "Epoch [1/15], Train Loss: 1.2791, Train Accuracy: 50.55%, Validation Accuracy: 66.27%\n",
      "Epoch [2/15], Train Loss: 0.8921, Train Accuracy: 61.91%, Validation Accuracy: 70.49%\n",
      "Epoch [3/15], Train Loss: 0.8497, Train Accuracy: 64.48%, Validation Accuracy: 69.31%\n",
      "Epoch [4/15], Train Loss: 0.8465, Train Accuracy: 63.98%, Validation Accuracy: 66.95%\n",
      "Epoch [5/15], Train Loss: 0.7829, Train Accuracy: 65.71%, Validation Accuracy: 68.97%\n",
      "Epoch [6/15], Train Loss: 0.6009, Train Accuracy: 72.42%, Validation Accuracy: 72.18%\n",
      "Epoch [7/15], Train Loss: 0.5206, Train Accuracy: 74.92%, Validation Accuracy: 76.22%\n",
      "Epoch [8/15], Train Loss: 0.4810, Train Accuracy: 76.86%, Validation Accuracy: 74.20%\n",
      "Epoch [9/15], Train Loss: 0.4959, Train Accuracy: 75.63%, Validation Accuracy: 73.86%\n",
      "Epoch [10/15], Train Loss: 0.4652, Train Accuracy: 78.12%, Validation Accuracy: 75.72%\n",
      "Epoch [11/15], Train Loss: 0.3909, Train Accuracy: 81.25%, Validation Accuracy: 75.89%\n",
      "Epoch [12/15], Train Loss: 0.3488, Train Accuracy: 83.61%, Validation Accuracy: 76.90%\n",
      "Epoch [13/15], Train Loss: 0.3364, Train Accuracy: 84.16%, Validation Accuracy: 76.39%\n",
      "Epoch [14/15], Train Loss: 0.3141, Train Accuracy: 85.01%, Validation Accuracy: 76.73%\n",
      "Epoch [15/15], Train Loss: 0.2886, Train Accuracy: 85.90%, Validation Accuracy: 76.56%\n",
      "Best Validation Accuracy: 76.90%\n"
     ]
    }
   ],
   "source": [
    "#Train the model\n",
    "train_model(vgg16, train_loader, valid_loader, criterion, optimizer, scheduler, num_epochs=15)"
   ]
  }
 ],
 "metadata": {
  "kernelspec": {
   "display_name": "Python 3",
   "language": "python",
   "name": "python3"
  },
  "language_info": {
   "codemirror_mode": {
    "name": "ipython",
    "version": 3
   },
   "file_extension": ".py",
   "mimetype": "text/x-python",
   "name": "python",
   "nbconvert_exporter": "python",
   "pygments_lexer": "ipython3",
   "version": "3.8.0"
  }
 },
 "nbformat": 4,
 "nbformat_minor": 2
}
